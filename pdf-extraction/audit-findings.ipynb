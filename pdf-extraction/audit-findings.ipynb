{
 "cells": [
  {
   "cell_type": "code",
   "execution_count": 1,
   "metadata": {},
   "outputs": [],
   "source": [
    "from pdfminer.pdfinterp import PDFResourceManager, PDFPageInterpreter\n",
    "from pdfminer.converter import TextConverter\n",
    "from pdfminer.layout import LAParams\n",
    "from pdfminer.pdfpage import PDFPage\n",
    "import pdfquery\n",
    "from spacy.pipeline import EntityRuler\n",
    "import spacy\n",
    "\n",
    "from io import StringIO\n",
    "import os\n",
    "import sys\n",
    "import re"
   ]
  },
  {
   "cell_type": "code",
   "execution_count": 2,
   "metadata": {},
   "outputs": [],
   "source": [
    "def pdf2text(path, number=None):\n",
    "    \"\"\"\n",
    "    Given a PDF and a possible page number, extract the text.\n",
    "    \"\"\"\n",
    "    rsrcmgr = PDFResourceManager()\n",
    "    retstr = StringIO()\n",
    "    device = TextConverter(rsrcmgr, retstr, codec='utf-8', laparams=LAParams())\n",
    "    with open(path, 'rb') as fp:\n",
    "        interpreter = PDFPageInterpreter(rsrcmgr, device)\n",
    "        pagenos=set()\n",
    "        allpages = PDFPage.get_pages(fp, pagenos, maxpages=0, password='', caching=True, check_extractable=False)\n",
    "        if not number:\n",
    "            for page in allpages:\n",
    "                interpreter.process_page(page)\n",
    "        else:\n",
    "            for index, page in enumerate(allpages):\n",
    "                if index == number:\n",
    "                    interpreter.process_page(page)\n",
    "        text = retstr.getvalue()\n",
    "    device.close()\n",
    "    retstr.close()\n",
    "    return text"
   ]
  },
  {
   "cell_type": "code",
   "execution_count": 3,
   "metadata": {},
   "outputs": [],
   "source": [
    "def pdf2textCached(filename):\n",
    "    \"\"\"\n",
    "    Cache PDF text if it exists: this speeds up program execution.\n",
    "    \"\"\"\n",
    "    textfilename = filename + '.txt'\n",
    "    if not os.path.isfile(textfilename):\n",
    "        text = pdf2text(filename)\n",
    "        with open(textfilename, 'w+') as fd:\n",
    "            fd.write(text)\n",
    "    return '\\n'.join(open(textfilename, 'r+').readlines())"
   ]
  },
  {
   "cell_type": "code",
   "execution_count": 4,
   "metadata": {},
   "outputs": [],
   "source": [
    "def expand_audit_numbers(doc):\n",
    "    \"\"\"\n",
    "    We cannot use a conventional pipe here, because spacy sometimes\n",
    "    parses 2xxx-yyy as a single entity (DATE or CARDINAL). Here, we\n",
    "    explicitly match against a regexp and create custom spans; as\n",
    "    such, this function _must_ be the first pipe executed, otherwise\n",
    "    we will get overlapping entities for the same token.\n",
    "    \"\"\"\n",
    "    new_ents = []\n",
    "    for match in re.finditer('2\\d{3}-\\d{3}', doc.text):\n",
    "        start, end = match.span()\n",
    "        span = doc.char_span(start, end, label='AUDIT_NUMBER')\n",
    "        if span is not None:\n",
    "            new_ents.append(span)\n",
    "    doc.ents = new_ents\n",
    "    return doc"
   ]
  },
  {
   "cell_type": "code",
   "execution_count": 5,
   "metadata": {},
   "outputs": [],
   "source": [
    "def sentences(doc, what):\n",
    "    \"\"\"\n",
    "    Given a document with named entities, extract the sentence\n",
    "    belonging to the named entity.\n",
    "    \"\"\"\n",
    "    return [ent.sent for ent in doc.ents if ent.label_ == what]"
   ]
  },
  {
   "cell_type": "code",
   "execution_count": 6,
   "metadata": {},
   "outputs": [],
   "source": [
    "def get_page_limit(sentence, limit=50):\n",
    "    \"\"\"\n",
    "    Assume a page is approximately `limit` words. We could do better by\n",
    "    leveraging PDF parsing here.\n",
    "    \"\"\"\n",
    "    rest = sentence.doc[sentence.start:]\n",
    "    words = rest.text.split(' ')\n",
    "    length = len(words)\n",
    "    if length > limit: words = words[0:limit]\n",
    "    return len(' '.join(words))"
   ]
  },
  {
   "cell_type": "code",
   "execution_count": 7,
   "metadata": {},
   "outputs": [],
   "source": [
    "def extract_findings(doc):\n",
    "    \"\"\"\n",
    "    Given a header, examine the relevant context and see if we have a\n",
    "    finding on our hands. This is a quick and dirty heuristic: we want\n",
    "    to over-capture here.\n",
    "    \"\"\"\n",
    "    secondaries = ['CONDITION', 'CRITERIA', 'CONTEXT', 'CAUSE', 'EFFECT', 'RECOMMENDATION', 'RESPONSE']\n",
    "    findings = []\n",
    "    for sentence in sentences(doc, 'HEADER'):\n",
    "        limit = sentence.start + get_page_limit(sentence)\n",
    "        count = 0\n",
    "        for ent in doc.ents:\n",
    "            if ent.start > sentence.start and ent.end < limit:\n",
    "                if ent.label_ in secondaries:\n",
    "                    count += 1\n",
    "                if ent.label in ['AUDIT_NUMBER']:\n",
    "                    # we almost certainly have a finding if we have a\n",
    "                    # header followed by an audit number\n",
    "                    count += 3\n",
    "        if count > 3:\n",
    "            finding = doc[sentence.start:limit].text.strip().replace('\\n', '')\n",
    "            findings.append(finding)\n",
    "    return findings"
   ]
  },
  {
   "cell_type": "code",
   "execution_count": 8,
   "metadata": {},
   "outputs": [],
   "source": [
    "def nlp_results(doc):\n",
    "    return [(ent.text.strip(), ent.label_) for ent in doc.ents]"
   ]
  },
  {
   "cell_type": "code",
   "execution_count": 9,
   "metadata": {},
   "outputs": [],
   "source": [
    "def audit_numbers(doc):\n",
    "    return {ent.text for ent in doc.ents if ent.label_ == 'AUDIT_NUMBER'}"
   ]
  },
  {
   "cell_type": "code",
   "execution_count": 10,
   "metadata": {},
   "outputs": [],
   "source": [
    "def split_pattern(string):\n",
    "    return [{'LOWER': s} for s in string.split(' ')]"
   ]
  },
  {
   "cell_type": "code",
   "execution_count": 11,
   "metadata": {},
   "outputs": [],
   "source": [
    "patterns = [\n",
    "    # primary criteria\n",
    "    {'label': 'CORRECTIVE_ACTION', 'pattern': split_pattern('corrective action plan')},\n",
    "    {'label': 'CORRECTIVE_ACTION', 'pattern': split_pattern('corrective action')},\n",
    "    # secondary criteria: used to identify where the audit is\n",
    "    {'label': 'CONDITION', 'pattern': [{'LOWER': 'observation'}]},\n",
    "    {'label': 'CONDITION', 'pattern': [{'LOWER': 'condition'}]},\n",
    "    {'label': 'CRITERIA', 'pattern': [{'LOWER': 'criteria'}]},\n",
    "    {'label': 'CRITERIA', 'pattern': split_pattern('criteria or specific requirement')},\n",
    "    {'label': 'CONTEXT', 'pattern': [{'LOWER': 'context'}]},\n",
    "    {'label': 'CAUSE', 'pattern': [{'LOWER': 'cause'}]},\n",
    "    {'label': 'CAUSE', 'pattern': split_pattern('cause of the condition')},\n",
    "    {'label': 'EFFECT', 'pattern': [{'LOWER': 'effect'}]},\n",
    "    {'label': 'EFFECT', 'pattern': split_pattern('effect or possible effect')},\n",
    "    {'label': 'RECOMMENDATION', 'pattern': [{'LOWER': {'REGEX': 'recommendations?'}}]},\n",
    "    {'label': 'RESPONSE', 'pattern': [{'LOWER': 'response'}]},\n",
    "]"
   ]
  },
  {
   "cell_type": "code",
   "execution_count": 12,
   "metadata": {},
   "outputs": [],
   "source": [
    "# a sample of different headers that start audit findings\n",
    "headers = [\n",
    "    'federal award findings and questioned costs',\n",
    "    'financial statement findings',\n",
    "    'findings and questioned costs – major federal award programs audit',\n",
    "    'findings – financial statement audit',\n",
    "    'findings related to the financial statements',\n",
    "    'major federal award findings and questioned costs',\n",
    "    'schedule of findings and questioned costs',\n",
    "    'summary schedule of prior audit findings',\n",
    "]\n",
    "\n",
    "for header in headers:\n",
    "    pattern = {'label': 'HEADER', 'pattern': split_pattern(header)}\n",
    "    patterns.append(pattern)"
   ]
  },
  {
   "cell_type": "code",
   "execution_count": 19,
   "metadata": {},
   "outputs": [],
   "source": [
    "nlp = spacy.load('en_core_web_sm') # or 'en'\n",
    "ruler = EntityRuler(nlp, overwrite_ents=True)\n",
    "sentencizer = nlp.create_pipe('sentencizer')\n",
    "ruler.add_patterns(patterns)\n",
    "#nlp.add_pipe(sentencizer, first=True)\n",
    "nlp.add_pipe(expand_audit_numbers, first=True)\n",
    "nlp.add_pipe(ruler)"
   ]
  },
  {
   "cell_type": "code",
   "execution_count": 20,
   "metadata": {},
   "outputs": [],
   "source": [
    "pagenumber = None\n",
    "filename = \"20/13002220181.pdf\"\n",
    "sample = pdf2textCached(filename) if not pagenumber else pdf2text(filename, number=pagenumber)\n",
    "doc = nlp(sample)"
   ]
  },
  {
   "cell_type": "code",
   "execution_count": 15,
   "metadata": {},
   "outputs": [
    {
     "name": "stdout",
     "output_type": "stream",
     "text": [
      "found the following audit numbers: {'2018-001', '2017-002', '2017-003', '2017-001', '2018-002', '2018-003'}\n"
     ]
    }
   ],
   "source": [
    "audits = audit_numbers(doc)\n",
    "print('found the following audit numbers:', audits)"
   ]
  },
  {
   "cell_type": "code",
   "execution_count": 21,
   "metadata": {},
   "outputs": [
    {
     "name": "stdout",
     "output_type": "stream",
     "text": [
      "['No FINDINGS RELATED TO THE FINANCIAL STATEMENTS The Tribe had the following findings related to the financial statements for the year ended June 30, 2018: 2018-001 and 2018-002. FINDINGS AND QUESTIONED COSTS FOR FEDERAL AWARDS The Tribe had the following findings related to federal awards for the year ended June 30, 2018: 2018-003. 37 \\x0cNATIVE VILLAGE OF KWINHAGAK Quinhagak, Alaska Summary of Auditor’s Results and Schedule of Findings and Questioned Costs Year Ended June 30, 2018 FINDINGS RELATED TO THE FINANCIAL STATEMENTS The Tribe had the following findings related to the financial statements for the year ended June 30, 2018: Finding 2018-001, Internal Control over General Ledger Statement of condition  During  the  audit  it  was  noted  that  general  ledger  accounts  were  not Criteria Cause of condition Effect of condition Recommendation Response reconciled on a regular basis. Pursuant  SAS  115  and  AU  Section  325.05  a  control  deficiency  exists when the design or operation of a control does not allow management or employees, in the normal course of performing their assigned functions to prevent, or detect and correct, misstatements on a timely basis. Management did not ensure that accounts were reconciled on a regular basis. Due to the lack of regular internal control over general ledger, errors or irregularities could occur and not be detected during the normal course of business. We  recommend  for  management  to  establish  proper  internal  controls over general ledger accounts reconciliation. See corrective action plan', 'The Tribe had the following findings related to the financial statements for the year ended June 30, 2018: 2018-001 and 2018-002. FINDINGS AND QUESTIONED COSTS FOR FEDERAL AWARDS The Tribe had the following findings related to federal awards for the year ended June 30, 2018: 2018-003. 37 \\x0cNATIVE VILLAGE OF KWINHAGAK Quinhagak, Alaska Summary of Auditor’s Results and Schedule of Findings and Questioned Costs Year Ended June 30, 2018 FINDINGS RELATED TO THE FINANCIAL STATEMENTS The Tribe had the following findings related to the financial statements for the year ended June 30, 2018: Finding 2018-001, Internal Control over General Ledger Statement of condition  During  the  audit  it  was  noted  that  general  ledger  accounts  were  not Criteria Cause of condition Effect of condition Recommendation Response reconciled on a regular basis. Pursuant  SAS  115  and  AU  Section  325.05  a  control  deficiency  exists when the design or operation of a control does not allow management or employees, in the normal course of performing their assigned functions to prevent, or detect and correct, misstatements on a timely basis. Management did not ensure that accounts were reconciled on a regular basis. Due to the lack of regular internal control over general ledger, errors or irregularities could occur and not be detected during the normal course of business. We  recommend  for  management  to  establish  proper  internal  controls over general ledger accounts reconciliation. See corrective action plan. Finding 2018-', '37 \\x0cNATIVE VILLAGE OF KWINHAGAK Quinhagak, Alaska Summary of Auditor’s Results and Schedule of Findings and Questioned Costs Year Ended June 30, 2018 FINDINGS RELATED TO THE FINANCIAL STATEMENTS The Tribe had the following findings related to the financial statements for the year ended June 30, 2018: Finding 2018-001, Internal Control over General Ledger Statement of condition  During  the  audit  it  was  noted  that  general  ledger  accounts  were  not Criteria Cause of condition Effect of condition Recommendation Response reconciled on a regular basis. Pursuant  SAS  115  and  AU  Section  325.05  a  control  deficiency  exists when the design or operation of a control does not allow management or employees, in the normal course of performing their assigned functions to prevent, or detect and correct, misstatements on a timely basis. Management did not ensure that accounts were reconciled on a regular basis. Due to the lack of regular internal control over general ledger, errors or irregularities could occur and not be detected during the normal course of business. We  recommend  for  management  to  establish  proper  internal  controls over general ledger accounts reconciliation. See corrective action plan. Finding 2018-002, Non-Compliance with Grant Regulations Statement of condition Criteria Cause of condition Effect of condition Recommendation Response There was an instance of non-compliance with grant requirements. See federal award finding 2018-003 for details. Entities  receiving  federal  awards  are  obligated  to  follow  Administrative requirements, cost principles, and audit requirements set forth in Title 2 U.S.  Code  of  Federal  Regulations  (CFR)  Part', 'FINDINGS RELATED TO THE FINANCIAL STATEMENTS The Tribe had the following findings related to the financial statements for the year ended June 30, 2018: Finding 2018-001, Internal Control over General Ledger Statement of condition  During  the  audit  it  was  noted  that  general  ledger  accounts  were  not Criteria Cause of condition Effect of condition Recommendation Response reconciled on a regular basis. Pursuant  SAS  115  and  AU  Section  325.05  a  control  deficiency  exists when the design or operation of a control does not allow management or employees, in the normal course of performing their assigned functions to prevent, or detect and correct, misstatements on a timely basis. Management did not ensure that accounts were reconciled on a regular basis. Due to the lack of regular internal control over general ledger, errors or irregularities could occur and not be detected during the normal course of business. We  recommend  for  management  to  establish  proper  internal  controls over general ledger accounts reconciliation. See corrective action plan. Finding 2018-002, Non-Compliance with Grant Regulations Statement of condition Criteria Cause of condition Effect of condition Recommendation Response There was an instance of non-compliance with grant requirements. See federal award finding 2018-003 for details. Entities  receiving  federal  awards  are  obligated', 'The Tribe had the following findings related to the financial statements for the year ended June 30, 2018: Finding 2018-001, Internal Control over General Ledger Statement of condition  During  the  audit  it  was  noted  that  general  ledger  accounts  were  not Criteria Cause of condition Effect of condition Recommendation Response reconciled on a regular basis. Pursuant  SAS  115  and  AU  Section  325.05  a  control  deficiency  exists when the design or operation of a control does not allow management or employees, in the normal course of performing their assigned functions to prevent, or detect and correct, misstatements on a timely basis. Management did not ensure that accounts were reconciled on a regular basis. Due to the lack of regular internal control over general ledger, errors or irregularities could occur and not be detected during the normal course of business. We  recommend  for  management  to  establish  proper  internal  controls over general ledger accounts reconciliation. See corrective action plan. Finding 2018-002, Non-Compliance with Grant Regulations Statement of condition Criteria Cause of condition Effect of condition Recommendation Response There was an instance of non-compliance with grant requirements. See federal award finding', '38 \\x0cNATIVE VILLAGE OF KWINHAGAK Quinhagak, Alaska Summary of Auditor’s Results and Schedule of Findings and Questioned Costs Year Ended June 30, 2018 FINDINGS AND QUESTIONED COSTS FOR FEDERAL AWARDS The Tribe had the following findings related to federal awards for the year ended June 30, 2018: Finding 2018-003, Reporting – Pursuant to Uniform Guidance Program information Statement of condition  The  Tribe  did  not  submit  its  federal  single  audit  reports  within  the  9-All federal programs Criteria Cause of condition Effect of condition Questioned costs Recommendation Response month period requirement of year end. Uniform Guidance Audits of States, Local Governments, and Non-Profit Organizations,  requires  that  single  audit  reports  be  submitted  to  the federal audit clearinghouse within nine months of year-end.  Failure to submit reports in the required timeframe. Due to late reports, grantors may reduce or cease funding. Not determined  We  recommend  that  the  Village  devote  the  necessary  resources  to submit  all  required  grant  reports  and  ensure  the  audit  is  completed within nine months of year end. See corrective action plan. 39 \\x0cNative Village of Kwinhagak PO Box 149 Quinhagak, Ak 99655 Ph: (907)556-8165 Fax: (907)556-8166 CORRECTIVE ACTION PLAN The Native Village of Kwinhagak respectfully submits the following corrective action plan for the year ended June 30, 2018. Audit period: July 1, 2017 through June 30, 2018. The findings from the schedule of findings and questioned costs are discussed below. The findings are numbered consistently with']\n"
     ]
    }
   ],
   "source": [
    "print(extract_findings(doc))"
   ]
  },
  {
   "cell_type": "code",
   "execution_count": 24,
   "metadata": {},
   "outputs": [],
   "source": [
    "#from spacy import displacy\n",
    "#displacy.render(doc, style=\"ent\", options={'fine_grained': True})"
   ]
  },
  {
   "cell_type": "code",
   "execution_count": 23,
   "metadata": {},
   "outputs": [
    {
     "data": {
      "text/plain": [
       "[Corrective Action Plan \n",
       " \n",
       " \n",
       " , See corrective action plan. \n",
       " \n",
       " \n",
       " , See corrective action plan. \n",
       " \n",
       " \n",
       " , See corrective action plan. \n",
       " \n",
       " \n",
       " , CORRECTIVE ACTION PLAN \n",
       " \n",
       " \n",
       " , The Native Village of Kwinhagak respectfully submits the following corrective action plan for the year \n",
       " \n",
       " ended June 30, 2018. \n",
       " \n",
       " \n",
       " , Corrective Action \n",
       " \n",
       " \n",
       " \n",
       " Ferdinand \n",
       " , Corrective Action \n",
       " \n",
       " \n",
       " \n",
       " reconciled on a regular basis.  \n",
       " , Corrective Action \n",
       " \n",
       " \n",
       " \n",
       " Finding 2017-003, Reporting – Pursuant to Uniform Guidance \n",
       " \n",
       " \n",
       " \n",
       " Program information \n",
       " , Current Status \n",
       " \n",
       " Corrective Action \n",
       " \n",
       " \n",
       " ]"
      ]
     },
     "execution_count": 23,
     "metadata": {},
     "output_type": "execute_result"
    }
   ],
   "source": [
    "sentences(doc, 'CORRECTIVE_ACTION')"
   ]
  }
 ],
 "metadata": {
  "kernelspec": {
   "display_name": "Python 3",
   "language": "python",
   "name": "python3"
  },
  "language_info": {
   "codemirror_mode": {
    "name": "ipython",
    "version": 3
   },
   "file_extension": ".py",
   "mimetype": "text/x-python",
   "name": "python",
   "nbconvert_exporter": "python",
   "pygments_lexer": "ipython3",
   "version": "3.7.5"
  }
 },
 "nbformat": 4,
 "nbformat_minor": 4
}
